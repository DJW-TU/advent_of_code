{
 "cells": [
  {
   "cell_type": "markdown",
   "metadata": {},
   "source": [
    "# 1 | AoC"
   ]
  },
  {
   "cell_type": "code",
   "execution_count": 112,
   "metadata": {},
   "outputs": [],
   "source": [
    "import pandas as pd\n",
    "import re\n",
    "import os\n",
    "\n",
    "#d02\n",
    "from collections import defaultdict"
   ]
  },
  {
   "cell_type": "code",
   "execution_count": 2,
   "metadata": {},
   "outputs": [],
   "source": [
    "#data_path\n",
    "DATA = './data/'"
   ]
  },
  {
   "cell_type": "markdown",
   "metadata": {},
   "source": [
    "## Task 1"
   ]
  },
  {
   "cell_type": "code",
   "execution_count": 3,
   "metadata": {},
   "outputs": [],
   "source": [
    "d01_file = os.path.join(DATA,'d01.txt')\n",
    "df = pd.read_csv(d01_file, header=None, names=['Text'])"
   ]
  },
  {
   "cell_type": "code",
   "execution_count": 39,
   "metadata": {},
   "outputs": [],
   "source": [
    "#function to extract numbers\n",
    "def extract_numbers(input_string):\n",
    "    numbers=''.join(re.findall(r'\\d+', input_string))\n",
    "    return int(''.join([numbers[0],numbers[-1]]))"
   ]
  },
  {
   "cell_type": "code",
   "execution_count": 40,
   "metadata": {},
   "outputs": [],
   "source": [
    "# convert strings to 2 digit numbers\n",
    "df[\"desired_numbers\"] = df['Text'].apply(extract_numbers)"
   ]
  },
  {
   "cell_type": "code",
   "execution_count": 41,
   "metadata": {},
   "outputs": [
    {
     "data": {
      "text/plain": [
       "54953"
      ]
     },
     "execution_count": 41,
     "metadata": {},
     "output_type": "execute_result"
    }
   ],
   "source": [
    "df.desired_numbers.sum()"
   ]
  },
  {
   "cell_type": "markdown",
   "metadata": {},
   "source": [
    "## Task 2"
   ]
  },
  {
   "cell_type": "code",
   "execution_count": 94,
   "metadata": {},
   "outputs": [],
   "source": [
    "def string_to_numbers(text): \n",
    "    # Define a mapping of number words to numerical values\n",
    "    number_mapping = {\n",
    "        'one': 1,\n",
    "        'two': 2,\n",
    "        'three': 3,\n",
    "        'four': 4,\n",
    "        'five': 5,\n",
    "        'six': 6,\n",
    "        'seven': 7,\n",
    "        'eight': 8,\n",
    "        'nine': 9,\n",
    "    }\n",
    "    # numbers = []\n",
    "    # for key,value in number_mapping.items():\n",
    "    #     text = re.sub(key,str(value),text)\n",
    "\n",
    "    numbers =''.join(re.findall(r'(?=(\\d+|' + '|'.join(re.escape(word) for word in number_mapping.keys()) + r'))',text))  \n",
    "    for key,value in number_mapping.items():\n",
    "        numbers = re.sub(key,str(value),numbers) \n",
    "    return int(''.join([numbers[0],numbers[-1]]))"
   ]
  },
  {
   "cell_type": "code",
   "execution_count": 83,
   "metadata": {},
   "outputs": [
    {
     "data": {
      "text/plain": [
       "'?=(\\\\d+|one|two|three|four|five|six|seven|eight|nine)\\\\b)'"
      ]
     },
     "execution_count": 83,
     "metadata": {},
     "output_type": "execute_result"
    }
   ],
   "source": [
    "r'?=(\\d+|' + '|'.join(re.escape(word) for word in number_mapping.keys()) + r')\\b)'"
   ]
  },
  {
   "cell_type": "code",
   "execution_count": 99,
   "metadata": {},
   "outputs": [],
   "source": [
    "df[\"desired_numbers_t02\"] = df['Text'].apply(string_to_numbers)"
   ]
  },
  {
   "cell_type": "code",
   "execution_count": 100,
   "metadata": {},
   "outputs": [
    {
     "data": {
      "text/plain": [
       "53868"
      ]
     },
     "execution_count": 100,
     "metadata": {},
     "output_type": "execute_result"
    }
   ],
   "source": [
    "df.desired_numbers_t02.sum()"
   ]
  },
  {
   "cell_type": "markdown",
   "metadata": {},
   "source": [
    "# 2 | AOC"
   ]
  },
  {
   "cell_type": "code",
   "execution_count": 102,
   "metadata": {},
   "outputs": [],
   "source": [
    "class bag:\n",
    "    def __init__(self, red: int, green: int, blue: int):\n",
    "        self.red = red\n",
    "        self.green = green\n",
    "        self.blue = blue"
   ]
  },
  {
   "cell_type": "code",
   "execution_count": 104,
   "metadata": {},
   "outputs": [],
   "source": [
    "first_bag = bag(12,13,14)"
   ]
  },
  {
   "cell_type": "code",
   "execution_count": 106,
   "metadata": {},
   "outputs": [],
   "source": [
    "d02_file = os.path.join(DATA,'d02.txt')"
   ]
  },
  {
   "cell_type": "code",
   "execution_count": 107,
   "metadata": {},
   "outputs": [],
   "source": [
    "with open(d02_file, 'r') as file:\n",
    "    lines = file.readlines()\n",
    "\n",
    "data = []\n",
    "for line in lines:\n",
    "    match = re.match(r'Game (\\d+): (.+)', line)\n",
    "    if match:\n",
    "        game_number = int(match.group(1))\n",
    "        colors_str = match.group(2)\n",
    "        colors = re.findall(r'(\\d+) (\\w+)', colors_str)\n",
    "        data.append([game_number, colors])\n",
    "\n",
    "# Create a DataFrame from the extracted data\n",
    "df = pd.DataFrame(data, columns=['GameNumber', 'Colors'])"
   ]
  },
  {
   "cell_type": "code",
   "execution_count": 151,
   "metadata": {},
   "outputs": [
    {
     "data": {
      "text/plain": [
       "defaultdict(int, {})"
      ]
     },
     "execution_count": 151,
     "metadata": {},
     "output_type": "execute_result"
    }
   ],
   "source": [
    "color_counts = defaultdict(int)\n",
    "color_counts"
   ]
  },
  {
   "cell_type": "code",
   "execution_count": 157,
   "metadata": {},
   "outputs": [],
   "source": [
    "def color_counts(data: list):\n",
    "    color_counts = defaultdict(int)\n",
    "    \n",
    "    for count, color in data:\n",
    "        if color_counts[color] == 0:\n",
    "            color_counts[color] = int(count)\n",
    "        if color_counts[color] > 0:\n",
    "            color_counts[color] = max(color_counts[color],int(count))\n",
    "    color_counts_dict = dict(color_counts)\n",
    "    return color_counts_dict"
   ]
  },
  {
   "cell_type": "code",
   "execution_count": 158,
   "metadata": {},
   "outputs": [],
   "source": [
    "df['color_dicts'] = df['Colors'].apply(color_counts)"
   ]
  },
  {
   "cell_type": "code",
   "execution_count": 159,
   "metadata": {},
   "outputs": [],
   "source": [
    "df_result = pd.concat([df, pd.json_normalize(df['color_dicts'])], axis=1)"
   ]
  },
  {
   "cell_type": "code",
   "execution_count": 160,
   "metadata": {},
   "outputs": [],
   "source": [
    "df_result[\"possible\"] = (df_result.green<=first_bag.green) & (df_result.blue<=first_bag.blue) & ((df_result.red<=first_bag.red))"
   ]
  },
  {
   "cell_type": "code",
   "execution_count": 161,
   "metadata": {},
   "outputs": [],
   "source": [
    "df_calc = df_result[df_result.possible == True]"
   ]
  },
  {
   "cell_type": "code",
   "execution_count": 162,
   "metadata": {},
   "outputs": [
    {
     "data": {
      "text/plain": [
       "3035"
      ]
     },
     "execution_count": 162,
     "metadata": {},
     "output_type": "execute_result"
    }
   ],
   "source": [
    "df_calc.GameNumber.sum()"
   ]
  }
 ],
 "metadata": {
  "kernelspec": {
   "display_name": "jupyter-notebooks-BneSdXlQ-py3.11",
   "language": "python",
   "name": "python3"
  },
  "language_info": {
   "codemirror_mode": {
    "name": "ipython",
    "version": 3
   },
   "file_extension": ".py",
   "mimetype": "text/x-python",
   "name": "python",
   "nbconvert_exporter": "python",
   "pygments_lexer": "ipython3",
   "version": "3.11.2"
  }
 },
 "nbformat": 4,
 "nbformat_minor": 2
}
